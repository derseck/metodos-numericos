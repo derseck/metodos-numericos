{
 "cells": [
  {
   "cell_type": "code",
   "execution_count": 1,
   "metadata": {
    "collapsed": false
   },
   "outputs": [
    {
     "name": "stdout",
     "output_type": "stream",
     "text": [
      "\n",
      " La solucion para X1=  9.99999999999998\n",
      " La solucion para X2=  14.499999999999964\n"
     ]
    },
    {
     "data": {
      "image/png": "[encoded data removed]",
      "text/plain": [
       "<matplotlib.figure.Figure at 0x3018b50>"
      ]
     },
     "metadata": {},
     "output_type": "display_data"
    },
    {
     "name": "stdout",
     "output_type": "stream",
     "text": [
      "\n",
      " El determinante de la matriz de coeficientes es:  0.020000000000000018\n",
      "\n",
      " Dado que el det se aproxima a 0, el sistema podria tener otras soluciones.\n",
      "\n",
      " Por eliminacion de incognitas: \n",
      "    El valor de X1 es=  9.99999999999989\n",
      "    El valor de X2 es=  14.499999999999945\n"
     ]
    }
   ],
   "source": [
    "#a) Gráfica\n",
    "import math\n",
    "import matplotlib.pyplot as plt\n",
    "%matplotlib inline\n",
    "\n",
    "valores, funcion1, funcion2=[],[],[]\n",
    "a,b,c=0,0,-40\n",
    "i=-70\n",
    "for i in range (-70,100):\n",
    "    x2=(0.5*i)+9.5\n",
    "    x2b=0.51*i+9.4\n",
    "    valores.append(i)\n",
    "    funcion1.append(x2)\n",
    "    funcion2.append(x2b)\n",
    "while c<=1000:\n",
    "    fx1=0.02*a-19\n",
    "    fx2=(((1.0/1.02)-1.0)*b)-(9.4/1.02)\n",
    "    if(fx1==-18.8):\n",
    "        print (\"\\n La solucion para X1= \",a)\n",
    "        punto1=a\n",
    "    if(fx2==-9.5):\n",
    "        print (\" La solucion para X2= \",b)\n",
    "        punto2=b\n",
    "    a+=0.1\n",
    "    b+=0.1\n",
    "    c+=1\n",
    "plt.grid(True)\n",
    "plt.axis([-50,70,-80,80])\n",
    "plt.ylabel('x2')\n",
    "plt.xlabel('x1')\n",
    "plt.plot(valores, funcion1, 'g-', linewidth=1.0)\n",
    "plt.plot(valores, funcion2, 'y-', linewidth=1.0)\n",
    "plt.plot(punto1,punto2, 'bo', label=\"Pto corte:\\nx1=10\\nx2=14.5\")\n",
    "plt.legend(loc = 'upper right', numpoints = 1)\n",
    "plt.show()\n",
    "\n",
    "#determinante\n",
    "matrizCoef=[[0.5,-1],[1.02,-2]]\n",
    "det=matrizCoef[0][0]*matrizCoef[1][1]-matrizCoef[0][1]*matrizCoef[1][0]\n",
    "print (\"\\n El determinante de la matriz de coeficientes es: \" ,det)\n",
    "print (\"\\n Dado que el det se aproxima a 0, el sistema podria tener otras soluciones.\")\n",
    "\n",
    "#eliminacion incognitas\n",
    "aux=[]\n",
    "sol=[-9.5,-18.8]\n",
    "aux2=[]\n",
    "for i in range(len(matrizCoef)):\n",
    "    aux.append([])\n",
    "    if(i==0):\n",
    "        for j in range(len(matrizCoef[0])):\n",
    "            aux[i].append(matrizCoef[1][0]*matrizCoef[i][j])\n",
    "        aux2.append(matrizCoef[1][0]*sol[i])\n",
    "    else:\n",
    "        for j in range(len(matrizCoef[1])):\n",
    "            aux[i].append(matrizCoef[0][0]*matrizCoef[i][j])\n",
    "        aux2.append(matrizCoef[0][0]*sol[i])\n",
    "print (\"\\n Por eliminacion de incognitas: \")\n",
    "var2=(aux2[0]-aux2[1])/(aux[0][1]-aux[1][1])\n",
    "var1=(sol[0]-matrizCoef[0][1]*var2)/matrizCoef[0][0]\n",
    "print (\"    El valor de X1 es= \" ,var1)\n",
    "print (\"    El valor de X2 es= \" ,var2)"
   ]
  },
  {
   "cell_type": "code",
   "execution_count": 2,
   "metadata": {
    "collapsed": false
   },
   "outputs": [
    {
     "name": "stdout",
     "output_type": "stream",
     "text": [
      "\n",
      "CAMBIANDO a11 por 0.52:\n",
      "\n",
      " La solucion para X1=  -10\n",
      " La solucion para X2=  4.300000000000001\n"
     ]
    },
    {
     "data": {
      "image/png": "[encoded data removed]",
      "text/plain": [
       "<matplotlib.figure.Figure at 0x4e2abd0>"
      ]
     },
     "metadata": {},
     "output_type": "display_data"
    },
    {
     "name": "stdout",
     "output_type": "stream",
     "text": [
      "\n",
      " El determinante de la matriz de coeficientes es:  -0.020000000000000018\n",
      "\n",
      " Dado que el det se aproxima a 0, el sistema podria tener otras soluciones.\n",
      "\n",
      " Por eliminacion de incognitas: \n",
      " El valor de X1 es=  -9.999999999999806\n",
      " El valor de X2 es=  4.3000000000001\n"
     ]
    }
   ],
   "source": [
    "#numeral e) del 9.7 \n",
    "#a) Gráfica\n",
    "import math\n",
    "import matplotlib.pyplot as plt\n",
    "%matplotlib inline\n",
    "\n",
    "valores, funcion1, funcion2=[],[],[]\n",
    "a,b,c=-20,0,-40\n",
    "i=-70\n",
    "print (\"\\nCAMBIANDO a11 por 0.52:\\n\")\n",
    "\n",
    "for i in range (-70,100):\n",
    "    x2=(0.52*i)+9.5\n",
    "    x2b=0.51*i+9.4\n",
    "    valores.append(i)\n",
    "    funcion1.append(x2)\n",
    "    funcion2.append(x2b)\n",
    "\n",
    "while c<=1000:\n",
    "    fx1=-0.02*a-19\n",
    "    fx2=(((1.04/1.02)-1.0)*b)-(9.776/1.02)\n",
    "    if(fx1==-18.8):\n",
    "        print (\" La solucion para X1= \",a)\n",
    "        punto1=a\n",
    "    if(fx2==-9.5):\n",
    "        print (\" La solucion para X2= \",b)\n",
    "        punto2=b\n",
    "    a+=1\n",
    "    b+=0.1\n",
    "    c+=1\n",
    "plt.grid(True)\n",
    "plt.axis([-50,70,-60,80])\n",
    "plt.ylabel('x2')\n",
    "plt.xlabel('x1')\n",
    "plt.plot(valores, funcion1, 'm-', linewidth=1.0)\n",
    "plt.plot(valores, funcion2, 'y-', linewidth=1.0)\n",
    "plt.plot(punto1,punto2, '*', label=\"Pto corte:\\nx1=-10\\nx2=4.3\")\n",
    "plt.legend(loc = 'upper right', numpoints = 1)\n",
    "plt.show()\n",
    "\n",
    "#determinante\n",
    "matrizCoef=[[0.52,-1],[1.02,-2]]\n",
    "det=matrizCoef[0][0]*matrizCoef[1][1]-matrizCoef[0][1]*matrizCoef[1][0]\n",
    "print (\"\\n El determinante de la matriz de coeficientes es: \",det)\n",
    "print (\"\\n Dado que el det se aproxima a 0, el sistema podria tener otras soluciones.\")\n",
    "\n",
    "#eliminacion incognitas\n",
    "aux=[]\n",
    "sol=[-9.5,-18.8]\n",
    "aux2=[]\n",
    "for i in range(len(matrizCoef)):\n",
    "    aux.append([])\n",
    "    if(i==0):\n",
    "        for j in range(len(matrizCoef[0])):\n",
    "            aux[i].append(matrizCoef[1][0]*matrizCoef[i][j])\n",
    "        aux2.append(matrizCoef[1][0]*sol[i])\n",
    "    else:\n",
    "        for j in range(len(matrizCoef[1])):\n",
    "            aux[i].append(matrizCoef[0][0]*matrizCoef[i][j])\n",
    "        aux2.append(matrizCoef[0][0]*sol[i])\n",
    "print (\"\\n Por eliminacion de incognitas: \")\n",
    "var2=(aux2[0]-aux2[1])/(aux[0][1]-aux[1][1])\n",
    "var1=(sol[0]-matrizCoef[0][1]*var2)/matrizCoef[0][0]\n",
    "print (\" El valor de X1 es= \",var1)\n",
    "print (\" El valor de X2 es= \",var2)"
   ]
  },
  {
   "cell_type": "code",
   "execution_count": null,
   "metadata": {
    "collapsed": true
   },
   "outputs": [],
   "source": []
  }
 ],
 "metadata": {
  "kernelspec": {
   "display_name": "Python 3",
   "language": "python",
   "name": "python3"
  },
  "language_info": {
   "codemirror_mode": {
    "name": "ipython",
    "version": 3
   },
   "file_extension": ".py",
   "mimetype": "text/x-python",
   "name": "python",
   "nbconvert_exporter": "python",
   "pygments_lexer": "ipython3",
   "version": "3.5.1"
  }
 },
 "nbformat": 4,
 "nbformat_minor": 0
}
