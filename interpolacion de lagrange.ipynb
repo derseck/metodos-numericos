{
 "cells": [
  {
   "cell_type": "code",
   "execution_count": 14,
   "metadata": {
    "collapsed": false
   },
   "outputs": [
    {
     "name": "stdout",
     "output_type": "stream",
     "text": [
      "interpolacion en x=2 0.5658443469009826\n"
     ]
    },
    {
     "data": {
      "image/png": "[encoded data removed]",
      "text/plain": [
       "<matplotlib.figure.Figure at 0xd4a54fda90>"
      ]
     },
     "metadata": {},
     "output_type": "display_data"
    }
   ],
   "source": [
    "import math\n",
    "import matplotlib.pyplot as plt\n",
    "%matplotlib inline\n",
    "\n",
    "x=[1,4,6]\n",
    "f,Lx,fln=[],[],[]\n",
    "xc=2\n",
    "n=3\n",
    "\n",
    "def calcularf():\n",
    "    for a in range(len(x)):\n",
    "        f.append(math.log(x[a]));\n",
    "        \n",
    "def calcularfln():\n",
    "    for a in range(n):\n",
    "        fln.append(math.log(a+1));\n",
    "\n",
    "def calcularfx():\n",
    "    res=0\n",
    "    for i in range(n):\n",
    "        producto=f[i]\n",
    "        for j in range(n):\n",
    "            if(i!=j):\n",
    "                aux=(xc-x[j])/(x[i]-x[j])\n",
    "                producto=producto*aux       \n",
    "        res=res+producto\n",
    "    return (res)\n",
    "    \n",
    "calcularf()\n",
    "calcularfln()\n",
    "calcularfx()\n",
    "print (\"interpolacion en x=%s\" %xc,calcularfx())\n",
    "\n",
    "\n",
    "plt.title(\"Interpolacion de Lagrange\")\n",
    "plt.grid(True)\n",
    "plt.axis([0,8,0,6])\n",
    "plt.ylabel('F')\n",
    "plt.xlabel('X')\n",
    "plt.plot(x, fln, label=\"Grafica de ln %s\" % xc)\n",
    "plt.show()"
   ]
  },
  {
   "cell_type": "code",
   "execution_count": null,
   "metadata": {
    "collapsed": true
   },
   "outputs": [],
   "source": []
  }
 ],
 "metadata": {
  "kernelspec": {
   "display_name": "Python 3",
   "language": "python",
   "name": "python3"
  },
  "language_info": {
   "codemirror_mode": {
    "name": "ipython",
    "version": 3
   },
   "file_extension": ".py",
   "mimetype": "text/x-python",
   "name": "python",
   "nbconvert_exporter": "python",
   "pygments_lexer": "ipython3",
   "version": "3.5.1"
  }
 },
 "nbformat": 4,
 "nbformat_minor": 0
}
