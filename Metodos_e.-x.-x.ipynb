{
 "cells": [
  {
   "cell_type": "code",
   "execution_count": 7,
   "metadata": {
    "collapsed": false
   },
   "outputs": [
    {
     "name": "stdout",
     "output_type": "stream",
     "text": [
      "Valor x+1 0.6126998367802821\n",
      "Valor x+1 0.5638383891610742\n",
      "Valor x+1 0.5671703584197446\n",
      "Valor x+1 0.5671433066049633\n",
      "Valor x+1 0.5671432904097046\n"
     ]
    }
   ],
   "source": [
    "import matplotlib.pyplot as plt\n",
    "import math\n",
    "\n",
    "\n",
    "def biseccion():\n",
    "    print (\"Metodo por Biseccion\")\n",
    "    ci=0\n",
    "    cs=5\n",
    "    cm=0\n",
    "    res=0\n",
    "    c=0\n",
    "    while (res==0):\n",
    "        print ('lim inf',ci,' lim sup',cs)\n",
    "        fci=(math.exp(-ci))-ci\n",
    "        fcs=(math.exp(-cs))-cs\n",
    "        if ((fci*fcs)==0):\n",
    "            c=cs\n",
    "            print (\"resultado\",c)\n",
    "            break\n",
    "        else:\n",
    "            #print ('entro')\n",
    "            cm= (ci+cs)/2\n",
    "            if (((math.exp(-cm))-cm)>0):\n",
    "                ci=cm\n",
    "            else:\n",
    "                cs=cm\n",
    "            \n",
    "def met_falsa_posicion():\n",
    "    print (\"Metodo por Falsa Posicion\")\n",
    "    ci=0\n",
    "    cs=5\n",
    "    cm=0\n",
    "    res=0\n",
    "    c=0\n",
    "    while (res==0):\n",
    "        print ('lim inf',ci,' lim sup',cs)\n",
    "        fci=(math.exp(-ci))-ci\n",
    "        fcs=(math.exp(-cs))-cs\n",
    "        cm=cs-((fcs*(ci-cs))/(fci-fcs))\n",
    "        if (cm>0):\n",
    "            cs=cm\n",
    "        else:\n",
    "            ci=cm\n",
    "        if ((fci*fcs)==0):\n",
    "            c=cs\n",
    "            print (\"resultado\",c)\n",
    "            break\n",
    "        \n",
    "def met_punto_fijo():\n",
    "    print (\"Metodo Punto Fijo\")\n",
    "    ci=0\n",
    "    cf=0\n",
    "    res=0\n",
    "    while (res<10):\n",
    "        if(((math.exp(-ci))-cf)==0):\n",
    "            print (cf)\n",
    "            break;\n",
    "        else:\n",
    "            cf=math.exp(-ci)\n",
    "            ci=cf\n",
    "            print (\"Valor\",cf)\n",
    "            res+=1\n",
    "            \n",
    "def met_newton_raphson():\n",
    "    print (\"Metodo Newton-Raphson\")\n",
    "    ci=0\n",
    "    cf=0\n",
    "    res=0\n",
    "    while (res<5):\n",
    "        fci=(ci-(((math.exp(-ci))-ci)/((-1*(math.exp(-ci)))-1)))\n",
    "        if(fci==0):\n",
    "            print (cf)\n",
    "            break;\n",
    "        else:\n",
    "            cf=fci\n",
    "            ci=cf\n",
    "            print (\"Valor\",cf)\n",
    "            res+=1       \n",
    "            \n",
    "def met_secante():\n",
    "    ca=0\n",
    "    ci=1\n",
    "    cf=0\n",
    "    res=0\n",
    "    while (res<5):\n",
    "        fci=( ci-( (((math.exp(-ci))-ci)*(ca-ci)) / ( ((math.exp(-ca))-ca) - ((math.exp(-ci))-ci) ) ) )\n",
    "        if(fci==0):\n",
    "            print (cf)\n",
    "            break;\n",
    "        else:\n",
    "            ca=ci\n",
    "            cf=fci\n",
    "            ci=cf\n",
    "            print (\"Valor x+1\",cf)\n",
    "            res+=1 \n",
    "            \n",
    "met_secante()"
   ]
  },
  {
   "cell_type": "code",
   "execution_count": null,
   "metadata": {
    "collapsed": true
   },
   "outputs": [],
   "source": []
  },
  {
   "cell_type": "code",
   "execution_count": null,
   "metadata": {
    "collapsed": true
   },
   "outputs": [],
   "source": []
  }
 ],
 "metadata": {
  "kernelspec": {
   "display_name": "Python 3",
   "language": "python",
   "name": "python3"
  },
  "language_info": {
   "codemirror_mode": {
    "name": "ipython",
    "version": 3
   },
   "file_extension": ".py",
   "mimetype": "text/x-python",
   "name": "python",
   "nbconvert_exporter": "python",
   "pygments_lexer": "ipython3",
   "version": "3.5.1"
  }
 },
 "nbformat": 4,
 "nbformat_minor": 0
}
