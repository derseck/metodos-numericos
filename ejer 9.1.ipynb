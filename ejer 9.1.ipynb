{
 "cells": [
  {
   "cell_type": "code",
   "execution_count": null,
   "metadata": {
    "collapsed": true
   },
   "outputs": [],
   "source": [
    "matriz=[[0,2,5],[1,0,1],[8,3,0]]\n",
    "traspuesta=[]\n",
    "for n in range(3):\n",
    "    matrizTr.append([])\n",
    "    for m in range(3):\n",
    "        matrizTr[n].append(matriz[m][n])\n",
    "\n",
    "print \"La matriz de coeficientes es: \"\n",
    "print (matriz)\n",
    "print \"La matriz transpuesta es: \"\n",
    "print (traspuesta)"
   ]
  }
 ],
 "metadata": {
  "kernelspec": {
   "display_name": "Python 3",
   "language": "python",
   "name": "python3"
  },
  "language_info": {
   "codemirror_mode": {
    "name": "ipython",
    "version": 3
   },
   "file_extension": ".py",
   "mimetype": "text/x-python",
   "name": "python",
   "nbconvert_exporter": "python",
   "pygments_lexer": "ipython3",
   "version": "3.5.1"
  }
 },
 "nbformat": 4,
 "nbformat_minor": 0
}
