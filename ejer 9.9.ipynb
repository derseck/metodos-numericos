{
 "cells": [
  {
   "cell_type": "code",
   "execution_count": 4,
   "metadata": {
    "collapsed": false
   },
   "outputs": [
    {
     "name": "stdout",
     "output_type": "stream",
     "text": [
      "X 1 =  1.5\n",
      "X 2 =  -6.5\n",
      "X 3 =  0.4999999999999999\n",
      "\n",
      "Satisface la primera ecuacion\n",
      "Satisface la segunda ecuacion\n",
      "Satisface la tercera ecuacion\n"
     ]
    }
   ],
   "source": [
    "m,b,x,det,factor,tol = [[8.0,2.0,-2.0],[10.0,2.0,4.0],[12.0,2.0,2.0 ]],[-2.0,4.0,6.0],[],1.0,0.0,0.0,\n",
    "er=0.0\n",
    "s=[]\n",
    "n=3\n",
    "\n",
    "for z in range(0,n):\n",
    "    x.append(n*0.0)\n",
    "    s.append(n*0.0)\n",
    "    \n",
    "def pivote(m,b,s,n,k):\n",
    "    p,k=0,0\n",
    "    p=k\n",
    "    big = abs(m[k][k]/s[k])\n",
    "    for i in range(k+1,n):\n",
    "        aux = abs(m[i][k]/s[i])\n",
    "        if (aux>big):\n",
    "            big=aux\n",
    "            p=i\n",
    "    if (p!=k):\n",
    "        for j in range(k,n):\n",
    "            aux=m[p][j]\n",
    "            m[p][j]=m[k][j]\n",
    "            m[k][j]=aux\n",
    "        aux=b[p]\n",
    "        b[p]=b[k]\n",
    "        b[k]=aux\n",
    "        aux=s[p]\n",
    "        s[p]=s[k]\n",
    "        s[k]=aux  \n",
    "        \n",
    "def eliminar(m,s,n,b,tol,er):\n",
    "    for k in range(0,n):\n",
    "        pivote(m,b,s,n,k)\n",
    "        if (abs(m[k][k]/s[k])<tol):\n",
    "            er=-1\n",
    "        for i in range(k+1,n):\n",
    "            factor = m[i][k]/m[k][k]\n",
    "            for j in range (k+1,n):\n",
    "                m[i][j]=m[i][j]-factor*m[k][j]\n",
    "            b[i]=b[i]-factor*b[k]\n",
    "    \n",
    "    if (abs(m[k][k]/s[k])<tol):\n",
    "        er=-1\n",
    "    \n",
    "def substituir(m,n,b,x):\n",
    "    x[n-1]=b[n-1]/m[n-1][n-1]\n",
    "    i=n-1\n",
    "    while (i>=0):\n",
    "        suma = 0\n",
    "        for j in range(i+1,n):\n",
    "            suma=suma+x[j]*m[i][j]\n",
    "        x[i]=(b[i]-suma)/m[i][i]\n",
    "        i -= 1\n",
    "    for i in range(0,n):\n",
    "        k=i+1\n",
    "        print (\"X\",k,\"= \",x[i])\n",
    "\n",
    "def gauss(m,b,n,x,tol,er):\n",
    "    for i in range(0,n):\n",
    "        s[i]=abs(m[i][1])\n",
    "        for j in range(1,n):\n",
    "            if (abs(m[i][j])>s[i]):\n",
    "                s[i]=abs(m[i][j])\n",
    "    eliminar(m,s,n,b,tol,er)\n",
    "    if (er!=-1):\n",
    "        substituir(m,n,b,x)\n",
    "\n",
    "def verificar():\n",
    "\n",
    "    x1,x2,x3 = x[0],x[1],x[2]\n",
    "    ecuacion1=8*x1 + 2*x2 - 2*x3\n",
    "    ecuacion2=10*x1 + 2*x2 + 4*x3\n",
    "    ecuacion3=12*x1 + 2*x2 + 2*x3\n",
    "    if (round(ecuacion1)==-2):\n",
    "        print (\"\\nSatisface la primera ecuacion\")\n",
    "    if(round(ecuacion2)==4):\n",
    "        print (\"Satisface la segunda ecuacion\")\n",
    "    if(round(ecuacion3)==6):\n",
    "        print (\"Satisface la tercera ecuacion\")\n",
    "        \n",
    "gauss(m,b,n,x,tol,er)\n",
    "verificar()"
   ]
  },
  {
   "cell_type": "code",
   "execution_count": null,
   "metadata": {
    "collapsed": true
   },
   "outputs": [],
   "source": []
  }
 ],
 "metadata": {
  "kernelspec": {
   "display_name": "Python 3",
   "language": "python",
   "name": "python3"
  },
  "language_info": {
   "codemirror_mode": {
    "name": "ipython",
    "version": 3
   },
   "file_extension": ".py",
   "mimetype": "text/x-python",
   "name": "python",
   "nbconvert_exporter": "python",
   "pygments_lexer": "ipython3",
   "version": "3.5.1"
  }
 },
 "nbformat": 4,
 "nbformat_minor": 0
}
