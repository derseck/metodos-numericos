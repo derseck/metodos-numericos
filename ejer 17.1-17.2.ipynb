{
 "cells": [
  {
   "cell_type": "code",
   "execution_count": 9,
   "metadata": {
    "collapsed": false
   },
   "outputs": [
    {
     "name": "stdout",
     "output_type": "stream",
     "text": [
      "La media de los datos es= 9.652000000000001\n",
      "La desviacion estandar es= 0.7030410135025312\n",
      "La varianza es=  0.49426666666666635\n",
      "El coeficiente de variacion es= 0.07283889489251255\n",
      "Intervalo de confianza: 9.361784669626156 <= media <= 9.942215330373847\n"
     ]
    },
    {
     "data": {
      "image/png": "[encoded data removed]",
      "text/plain": [
       "<matplotlib.figure.Figure at 0x67a5570>"
      ]
     },
     "metadata": {},
     "output_type": "display_data"
    }
   ],
   "source": [
    "import math\n",
    "import matplotlib.pyplot as plt\n",
    "from matplotlib.pylab import hist,show\n",
    "%matplotlib inline \n",
    "datos=[8.8,9.5,9.8,9.4,10.0,9.4,10.1,9.2,11.3,9.4,10.0,10.4,7.9,10.4,9.8,9.8,9.5,8.9,8.8,10.6,10.1,9.5,9.6,10.2,8.9]\n",
    "\n",
    "def media():\n",
    "    aux=0.0\n",
    "    for i in range(len(datos)):\n",
    "        aux+=datos[i]\n",
    "    m=aux/len(datos)\n",
    "    return (m)\n",
    "\n",
    "def varianza():\n",
    "    aux=0.0\n",
    "    for j in range(len(datos)):\n",
    "        aux+=math.pow((datos[j]-media()),2)\n",
    "    v=aux/(len(datos)-1)\n",
    "    return v\n",
    "\n",
    "def confianza():\n",
    "    mini=media()-((math.sqrt(varianza())/math.sqrt(len(datos)))*2.064)\n",
    "    maxi=media()+((math.sqrt(varianza())/math.sqrt(len(datos)))*2.064)\n",
    "    print (\"Intervalo de confianza:\",mini,\"<= media <=\",maxi)\n",
    "\n",
    "print (\"La media de los datos es=\",media())\n",
    "print (\"La desviacion estandar es=\",(math.sqrt(varianza())))\n",
    "print (\"La varianza es= \",varianza())\n",
    "print (\"El coeficiente de variacion es=\",(math.sqrt(varianza())/media()))\n",
    "\n",
    "confianza()\n",
    "\n",
    "hist(datos,15,(8,12))\n",
    "plt.title(\"Histograma\")\n",
    "plt.ylabel('Frecuencia')\n",
    "plt.xlabel('Datos')\n",
    "show()"
   ]
  },
  {
   "cell_type": "code",
   "execution_count": null,
   "metadata": {
    "collapsed": true
   },
   "outputs": [],
   "source": []
  }
 ],
 "metadata": {
  "kernelspec": {
   "display_name": "Python 3",
   "language": "python",
   "name": "python3"
  },
  "language_info": {
   "codemirror_mode": {
    "name": "ipython",
    "version": 3
   },
   "file_extension": ".py",
   "mimetype": "text/x-python",
   "name": "python",
   "nbconvert_exporter": "python",
   "pygments_lexer": "ipython3",
   "version": "3.5.1"
  }
 },
 "nbformat": 4,
 "nbformat_minor": 0
}
