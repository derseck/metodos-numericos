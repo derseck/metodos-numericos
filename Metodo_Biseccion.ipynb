{
 "cells": [
  {
   "cell_type": "code",
   "execution_count": 10,
   "metadata": {
    "collapsed": false
   },
   "outputs": [
    {
     "name": "stdout",
     "output_type": "stream",
     "text": [
      "lim inf 4  lim sup 15\n",
      "lim inf 9.5  lim sup 15\n",
      "lim inf 12.25  lim sup 15\n",
      "lim inf 13.625  lim sup 15\n",
      "lim inf 14.3125  lim sup 15\n",
      "lim inf 14.65625  lim sup 15\n",
      "lim inf 14.65625  lim sup 14.828125\n",
      "lim inf 14.7421875  lim sup 14.828125\n",
      "lim inf 14.7421875  lim sup 14.78515625\n",
      "lim inf 14.763671875  lim sup 14.78515625\n",
      "lim inf 14.7744140625  lim sup 14.78515625\n",
      "lim inf 14.77978515625  lim sup 14.78515625\n",
      "lim inf 14.77978515625  lim sup 14.782470703125\n",
      "lim inf 14.77978515625  lim sup 14.7811279296875\n",
      "lim inf 14.77978515625  lim sup 14.78045654296875\n",
      "lim inf 14.780120849609375  lim sup 14.78045654296875\n",
      "lim inf 14.780120849609375  lim sup 14.780288696289062\n",
      "lim inf 14.780120849609375  lim sup 14.780204772949219\n",
      "lim inf 14.780162811279297  lim sup 14.780204772949219\n",
      "lim inf 14.780183792114258  lim sup 14.780204772949219\n",
      "lim inf 14.780194282531738  lim sup 14.780204772949219\n",
      "lim inf 14.780199527740479  lim sup 14.780204772949219\n",
      "lim inf 14.780202150344849  lim sup 14.780204772949219\n",
      "lim inf 14.780203461647034  lim sup 14.780204772949219\n",
      "lim inf 14.780203461647034  lim sup 14.780204117298126\n",
      "lim inf 14.78020378947258  lim sup 14.780204117298126\n",
      "lim inf 14.78020378947258  lim sup 14.780203953385353\n",
      "lim inf 14.78020378947258  lim sup 14.780203871428967\n",
      "lim inf 14.780203830450773  lim sup 14.780203871428967\n",
      "lim inf 14.780203830450773  lim sup 14.78020385093987\n",
      "lim inf 14.780203830450773  lim sup 14.780203840695322\n",
      "lim inf 14.780203830450773  lim sup 14.780203835573047\n",
      "lim inf 14.780203830450773  lim sup 14.78020383301191\n",
      "lim inf 14.780203830450773  lim sup 14.780203831731342\n",
      "lim inf 14.780203831091058  lim sup 14.780203831731342\n",
      "lim inf 14.7802038314112  lim sup 14.780203831731342\n",
      "lim inf 14.78020383157127  lim sup 14.780203831731342\n",
      "lim inf 14.780203831651306  lim sup 14.780203831731342\n",
      "lim inf 14.780203831651306  lim sup 14.780203831691324\n",
      "lim inf 14.780203831651306  lim sup 14.780203831671315\n",
      "lim inf 14.780203831651306  lim sup 14.78020383166131\n",
      "lim inf 14.780203831656308  lim sup 14.78020383166131\n",
      "lim inf 14.78020383165881  lim sup 14.78020383166131\n",
      "lim inf 14.78020383166006  lim sup 14.78020383166131\n",
      "lim inf 14.780203831660685  lim sup 14.78020383166131\n",
      "lim inf 14.780203831660998  lim sup 14.78020383166131\n",
      "lim inf 14.780203831660998  lim sup 14.780203831661154\n",
      "lim inf 14.780203831660998  lim sup 14.780203831661076\n",
      "lim inf 14.780203831661037  lim sup 14.780203831661076\n",
      "lim inf 14.780203831661037  lim sup 14.780203831661057\n",
      "14.780203831661057\n"
     ]
    }
   ],
   "source": [
    "import matplotlib.pyplot as plt\n",
    "import math\n",
    "g=9.8\n",
    "m=68.1\n",
    "t=10\n",
    "v=40\n",
    "res=1\n",
    "ci=4\n",
    "cs=15\n",
    "cm=0\n",
    "#fc=((g*m/c)*(1-math.e(-(c/m)*t)))-v\n",
    "res=0\n",
    "c=0\n",
    "\n",
    "while (res==0):\n",
    "    print ('lim inf',ci,' lim sup',cs)\n",
    "    fci=((g*m/ci)*(1-math.exp(-(ci/m)*t)))-v\n",
    "    fcs=((g*m/cs)*(1-math.exp(-(cs/m)*t)))-v\n",
    "    if ((fci*fcs)==0):\n",
    "        c=cs\n",
    "        print (c)\n",
    "        break\n",
    "    else:\n",
    "        #print ('entro')\n",
    "        cm= (ci+cs)/2\n",
    "        if ((((g*m/cm)*(1-math.exp(-(cm/m)*t)))-v)>0):\n",
    "            ci=cm\n",
    "        else:\n",
    "            cs=cm\n",
    "    \n"
   ]
  },
  {
   "cell_type": "code",
   "execution_count": null,
   "metadata": {
    "collapsed": true
   },
   "outputs": [],
   "source": []
  },
  {
   "cell_type": "code",
   "execution_count": null,
   "metadata": {
    "collapsed": true
   },
   "outputs": [],
   "source": []
  }
 ],
 "metadata": {
  "kernelspec": {
   "display_name": "Python 3",
   "language": "python",
   "name": "python3"
  },
  "language_info": {
   "codemirror_mode": {
    "name": "ipython",
    "version": 3
   },
   "file_extension": ".py",
   "mimetype": "text/x-python",
   "name": "python",
   "nbconvert_exporter": "python",
   "pygments_lexer": "ipython3",
   "version": "3.5.1"
  }
 },
 "nbformat": 4,
 "nbformat_minor": 0
}
