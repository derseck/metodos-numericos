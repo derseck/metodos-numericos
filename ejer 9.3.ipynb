{
 "cells": [
  {
   "cell_type": "code",
   "execution_count": 1,
   "metadata": {
    "collapsed": false
   },
   "outputs": [
    {
     "name": "stdout",
     "output_type": "stream",
     "text": [
      "\n",
      " La multiplicacion de las matrices [A]x[B] es:\n",
      "[[4.0, 15], [8.0, 29], [9.0, 29]]\n",
      "\n",
      " La multiplicacion de las matrices [A]x[C] es:\n",
      "[[-16, 4], [-24, 4], [2, -10]]\n",
      "\n",
      " La multiplicacion de las matrices [B]x[C] es:\n",
      "[[-7, 1], [-5.0, 1.0]]\n",
      "\n",
      " La multiplicacion de las matrices [C]x[B] es:\n",
      "[[1.0, 2], [-2.5, -7]]\n",
      "\n",
      " La multiplicacion [B]x[A]: \n",
      "No se pueden multiplicar las matrices porque m!=n de la segunda matriz.\n",
      "None\n",
      "\n",
      " La multiplicacion [C]x[A]: \n",
      "No se pueden multiplicar las matrices porque m!=n de la segunda matriz.\n",
      "None\n",
      "\n",
      " se puede observar que el producto entre matrices no cumple con la\n",
      "propiedad conmutativa.\n"
     ]
    }
   ],
   "source": [
    "A=[[1,6],[3,10],[7,4]]\n",
    "B=[[1,3],[0.5, 2]]\n",
    "C=[[2,-2],[-3,1]]\n",
    "\n",
    "def producto(a,b):\n",
    "    res=[]\n",
    "    for i in range(len(a)):\n",
    "        res.append([0]*(len(b[0])))\n",
    "    for i in range(len(a)):\n",
    "        for j in range(len(b[0])):\n",
    "            for k in range(len(a[0])):\n",
    "                res[i][j]+= a[i][k]*b[k][j]\n",
    "    return res\n",
    "\n",
    "def verificar(a,b):\n",
    "    if(len(a[0])!=len(b)):\n",
    "        print (\"No se pueden multiplicar las matrices porque m!=n de la segunda matriz.\")\n",
    "    if(len(a[0])==len(b)):\n",
    "        res=producto(a,b)\n",
    "        return res\n",
    "\n",
    "print (\"\\n La multiplicacion de las matrices [A]x[B] es:\") \n",
    "print (verificar(A,B))\n",
    "print (\"\\n La multiplicacion de las matrices [A]x[C] es:\")\n",
    "print (verificar(A,C))\n",
    "print (\"\\n La multiplicacion de las matrices [B]x[C] es:\") \n",
    "print (verificar(B,C))\n",
    "print (\"\\n La multiplicacion de las matrices [C]x[B] es:\")\n",
    "print (verificar(C,B))\n",
    "\n",
    "print (\"\\n La multiplicacion [B]x[A]: \")\n",
    "print (verificar(B,A))\n",
    "print (\"\\n La multiplicacion [C]x[A]: \")\n",
    "print (verificar(C,A))\n",
    "print (\"\\n se puede observar que el producto entre matrices no cumple con la\\npropiedad conmutativa.\")"
   ]
  },
  {
   "cell_type": "code",
   "execution_count": null,
   "metadata": {
    "collapsed": true
   },
   "outputs": [],
   "source": []
  }
 ],
 "metadata": {
  "kernelspec": {
   "display_name": "Python 3",
   "language": "python",
   "name": "python3"
  },
  "language_info": {
   "codemirror_mode": {
    "name": "ipython",
    "version": 3
   },
   "file_extension": ".py",
   "mimetype": "text/x-python",
   "name": "python",
   "nbconvert_exporter": "python",
   "pygments_lexer": "ipython3",
   "version": "3.5.1"
  }
 },
 "nbformat": 4,
 "nbformat_minor": 0
}
