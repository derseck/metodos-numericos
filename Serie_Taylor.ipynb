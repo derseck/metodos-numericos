{
 "cells": [
  {
   "cell_type": "code",
   "execution_count": 14,
   "metadata": {
    "collapsed": false
   },
   "outputs": [
    {
     "name": "stdout",
     "output_type": "stream",
     "text": [
      "evaluacion en 0 1.2\n",
      "valor final 1.2\n",
      "1 derivada -0.25\n",
      "valor final 0.95\n",
      "2 derivada -1.0\n",
      "valor final 0.44999999999999996\n",
      "3 derivada -0.9\n",
      "valor final 0.29999999999999993\n",
      "4 derivada -2.4\n",
      "valor final 0.19999999999999996\n"
     ]
    }
   ],
   "source": [
    "import math\n",
    "\n",
    "def factorial(n):\n",
    "    cont=1\n",
    "    rta=1\n",
    "    \n",
    "    while cont<=n :\n",
    "        rta*=cont\n",
    "        cont+=1\n",
    "    return (rta)\n",
    "\n",
    "def derivada(n):\n",
    "    xi=0\n",
    "    if(n==0):\n",
    "        funi=(-0.1*(xi**4))-(0.15*(xi**3))-(0.5*(xi**2))-(0.25*xi)+1.2\n",
    "        der=funi\n",
    "        print (\"evaluacion en 0\",der)\n",
    "        return (der)\n",
    "    else:\n",
    "        if(n==1):\n",
    "            funi=(-0.4*(xi**3))-(0.45*(xi**2))-(1*(xi**1))-(0.25)\n",
    "            der=funi\n",
    "            print (\"1 derivada\",der)\n",
    "            return (der)\n",
    "        else:\n",
    "            if(n==2):\n",
    "                funi=(-1.2*(xi**2))-(0.9*(xi**1))-(1)\n",
    "                der=funi\n",
    "                print (\"2 derivada\",der)\n",
    "                return (der)\n",
    "            else:\n",
    "                if(n==3):\n",
    "                    funi=(-2.4*(xi**1))-(0.9)\n",
    "                    der=funi\n",
    "                    print (\"3 derivada\",der)\n",
    "                    return (der)\n",
    "                else:\n",
    "                    if(n==4):\n",
    "                        funi=(-2.4)\n",
    "                        der=funi\n",
    "                        print (\"4 derivada\",der)\n",
    "                        return (der)\n",
    "\n",
    "def serie(n):\n",
    "    h=1\n",
    "    fun=(derivada(n)/factorial(n))\n",
    "    return (fun)\n",
    "\n",
    "rta2=0\n",
    "for d in range(5):\n",
    "    rta2=rta2+serie(d)\n",
    "    print (\"valor final\",rta2)"
   ]
  },
  {
   "cell_type": "code",
   "execution_count": null,
   "metadata": {
    "collapsed": true
   },
   "outputs": [],
   "source": []
  }
 ],
 "metadata": {
  "kernelspec": {
   "display_name": "Python 3",
   "language": "python",
   "name": "python3"
  },
  "language_info": {
   "codemirror_mode": {
    "name": "ipython",
    "version": 3
   },
   "file_extension": ".py",
   "mimetype": "text/x-python",
   "name": "python",
   "nbconvert_exporter": "python",
   "pygments_lexer": "ipython3",
   "version": "3.5.1"
  }
 },
 "nbformat": 4,
 "nbformat_minor": 0
}
