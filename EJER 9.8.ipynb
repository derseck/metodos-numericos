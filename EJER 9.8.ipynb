{
 "cells": [
  {
   "cell_type": "code",
   "execution_count": 3,
   "metadata": {
    "collapsed": false
   },
   "outputs": [
    {
     "name": "stdout",
     "output_type": "stream",
     "text": [
      "metodo de Gauss simple:\n",
      " \n",
      "El valor de la incognita X es  (1, 0.5000000000000002)\n",
      "El valor de la incognita X es  (2, 7.999999999999999)\n",
      "El valor de la incognita X es  (3, -6.0)\n",
      "\n",
      "Sustituyendo los valores:\n",
      "\n",
      "El resultado para la primera ecuacion es  27.0\n",
      "El resultado para la segunda ecuacion es  -61.49999999999999\n",
      "El resultado para la tercera ecuacion es  -21.5\n"
     ]
    }
   ],
   "source": [
    "matrizCoef=[[10.0,2.0,-1.0],[-3.0,-6.0, 2.0],[1.0,1.0,5.0]]\n",
    "sol=[27.0,-61.5,-21.5]\n",
    "x,d,y,i,j,k=[],0.0,0.0,0,0,0\n",
    "n=len(matrizCoef)\n",
    "\n",
    "for m in range (len(matrizCoef)):\n",
    "    x.append(0*len(matrizCoef[0]))\n",
    "\n",
    "print (\"metodo de Gauss simple:\\n \")\n",
    "\n",
    "for i in range(0,n):\n",
    "    for j in range(i,n):\n",
    "        if(i==j):\n",
    "            d=matrizCoef[i][j]\n",
    "            for s in range (0,n):\n",
    "                matrizCoef[i][s]=((matrizCoef[i][s])/d)\n",
    "            sol[i]=((sol[i])/d)\n",
    "        else:\n",
    "            d=matrizCoef[j][i]\n",
    "            for s in range (0,n):\n",
    "                matrizCoef[j][s]=matrizCoef[j][s]-(d*matrizCoef[i][s])\n",
    "            sol[j]=sol[j]-(d*sol[i])\n",
    "i=n-1\n",
    "j=n-1\n",
    "\n",
    "while(i>=0):\n",
    "    y=sol[i]\n",
    "    while(j>=i):\n",
    "        y=y-x[j]*matrizCoef[i][j]\n",
    "        j-=1\n",
    "    x[i]=y\n",
    "    i-=1\n",
    "    j=n-1\n",
    "for i in range (0,n):\n",
    "    k=i+1\n",
    "    print (\"El valor de la incognita X es \",(k,x[i]))\n",
    "    \n",
    "print (\"\\nSustituyendo los valores:\\n\")\n",
    "ecuaA=10*x[0]+2*x[1]-x[2]\n",
    "ecuaB=-3*x[0]-6*x[1]+2*x[2]\n",
    "ecuaC=x[0]+x[1]+5*x[2]\n",
    "\n",
    "print (\"El resultado para la primera ecuacion es \",ecuaA)\n",
    "print (\"El resultado para la segunda ecuacion es \",ecuaB)\n",
    "print (\"El resultado para la tercera ecuacion es \",ecuaC)\n"
   ]
  },
  {
   "cell_type": "code",
   "execution_count": null,
   "metadata": {
    "collapsed": true
   },
   "outputs": [],
   "source": []
  }
 ],
 "metadata": {
  "kernelspec": {
   "display_name": "Python 3",
   "language": "python",
   "name": "python3"
  },
  "language_info": {
   "codemirror_mode": {
    "name": "ipython",
    "version": 3
   },
   "file_extension": ".py",
   "mimetype": "text/x-python",
   "name": "python",
   "nbconvert_exporter": "python",
   "pygments_lexer": "ipython3",
   "version": "3.5.1"
  }
 },
 "nbformat": 4,
 "nbformat_minor": 0
}
