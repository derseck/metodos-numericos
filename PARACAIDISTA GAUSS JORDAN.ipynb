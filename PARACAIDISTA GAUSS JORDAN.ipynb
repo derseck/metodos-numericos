{
 "cells": [
  {
   "cell_type": "code",
   "execution_count": 5,
   "metadata": {
    "collapsed": false
   },
   "outputs": [
    {
     "name": "stdout",
     "output_type": "stream",
     "text": [
      "Para el problema del paracaidista, los resultados son: \n",
      " a=  8.594117647058823  m/s^2\n",
      " T=  34.41176470588234  N\n",
      " R=  36.764705882352956  N\n"
     ]
    }
   ],
   "source": [
    "var,piv,matriz = 0,0,[[70.0,1.0,0.0,636.0],[60.0,-1.0,1.0,518.0],[40.0,0.0,-1.0,307.0]]\n",
    "\n",
    "var = len(matriz)\n",
    "    \n",
    "def pivotear(matriz,piv,var):\n",
    "    temp=0.0\n",
    "    temp=matriz[piv][piv]\n",
    "    for y in range(0,var+1):\n",
    "        matriz[piv][y]=matriz[piv][y]/temp\n",
    "        \n",
    "def ceros(matriz,piv,var):\n",
    "    for x in range(0,var):\n",
    "        if (x!=piv):\n",
    "            c = matriz[x][piv]\n",
    "            for z in range(0,var+1):\n",
    "                matriz[x][z]=((-1*c)*matriz[piv][z])+matriz[x][z]\n",
    "                \n",
    "for a in range(0,var):\n",
    "    pivotear(matriz,piv,var)\n",
    "    ceros(matriz,piv,var)\n",
    "    piv += 1\n",
    "print (\"Para el problema del paracaidista, los resultados son: \")\n",
    "print (\" a= \",matriz[0][var],\" m/s^2\")\n",
    "print (\" T= \",matriz[1][var],\" N\")\n",
    "print (\" R= \",matriz[2][var],\" N\")"
   ]
  },
  {
   "cell_type": "code",
   "execution_count": null,
   "metadata": {
    "collapsed": true
   },
   "outputs": [],
   "source": []
  }
 ],
 "metadata": {
  "kernelspec": {
   "display_name": "Python 3",
   "language": "python",
   "name": "python3"
  },
  "language_info": {
   "codemirror_mode": {
    "name": "ipython",
    "version": 3
   },
   "file_extension": ".py",
   "mimetype": "text/x-python",
   "name": "python",
   "nbconvert_exporter": "python",
   "pygments_lexer": "ipython3",
   "version": "3.5.1"
  }
 },
 "nbformat": 4,
 "nbformat_minor": 0
}
