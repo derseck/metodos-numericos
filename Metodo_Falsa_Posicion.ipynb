{
 "cells": [
  {
   "cell_type": "code",
   "execution_count": 2,
   "metadata": {
    "collapsed": false
   },
   "outputs": [
    {
     "name": "stdout",
     "output_type": "stream",
     "text": [
      "lim inf 12  lim sup 16\n",
      "lim inf 12  lim sup 14.911303179105778\n",
      "lim inf 12  lim sup 14.794192783301051\n",
      "lim inf 12  lim sup 14.781695337923324\n",
      "lim inf 12  lim sup 14.780362843005989\n",
      "lim inf 12  lim sup 14.780220783905541\n",
      "lim inf 12  lim sup 14.780205638942894\n",
      "lim inf 12  lim sup 14.780204024335681\n",
      "lim inf 12  lim sup 14.780203852202133\n",
      "lim inf 12  lim sup 14.780203833850942\n",
      "lim inf 12  lim sup 14.780203831894523\n",
      "lim inf 12  lim sup 14.780203831685947\n",
      "lim inf 12  lim sup 14.78020383166371\n",
      "lim inf 12  lim sup 14.78020383166134\n",
      "lim inf 12  lim sup 14.780203831661087\n",
      "lim inf 12  lim sup 14.78020383166106\n",
      "lim inf 12  lim sup 14.780203831661057\n",
      "14.780203831661057\n"
     ]
    }
   ],
   "source": [
    "import matplotlib.pyplot as plt\n",
    "import math\n",
    "g=9.8\n",
    "m=68.1\n",
    "t=10\n",
    "v=40\n",
    "ci=4\n",
    "cs=15\n",
    "cm=0\n",
    "#fc=((g*m/c)*(1-math.e(-(c/m)*t)))-v\n",
    "res=0\n",
    "c=0\n",
    "\n",
    "def biseccion():\n",
    "    while (res==0):\n",
    "        print ('lim inf',ci,' lim sup',cs)\n",
    "        fci=((g*m/ci)*(1-math.exp(-(ci/m)*t)))-v\n",
    "        fcs=((g*m/cs)*(1-math.exp(-(cs/m)*t)))-v\n",
    "        if ((fci*fcs)==0):\n",
    "            c=cs\n",
    "            print (c)\n",
    "            break\n",
    "        else:\n",
    "            #print ('entro')\n",
    "            cm= (ci+cs)/2\n",
    "            if ((((g*m/cm)*(1-math.exp(-(cm/m)*t)))-v)>0):\n",
    "                ci=cm\n",
    "            else:\n",
    "                cs=cm\n",
    "            \n",
    "def met_falsa_posicion():\n",
    "    g=9.8\n",
    "    m=68.1\n",
    "    t=10\n",
    "    v=40\n",
    "    ci=12\n",
    "    cs=16\n",
    "    cm=0\n",
    "    res=0\n",
    "    c=0\n",
    "    while (res==0):\n",
    "        print ('lim inf',ci,' lim sup',cs)\n",
    "        fci=((g*m/ci)*(1-math.exp(-(ci/m)*t)))-v\n",
    "        fcs=((g*m/cs)*(1-math.exp(-(cs/m)*t)))-v\n",
    "        cm=cs-((fcs*(ci-cs))/(fci-fcs))\n",
    "        if (cm>0):\n",
    "            cs=cm\n",
    "        else:\n",
    "            ci=cm\n",
    "        if ((fci*fcs)==0):\n",
    "            c=cs\n",
    "            print (\"resultado\",c)\n",
    "            break\n",
    "        \n",
    "met_falsa_posicion()"
   ]
  },
  {
   "cell_type": "code",
   "execution_count": null,
   "metadata": {
    "collapsed": true
   },
   "outputs": [],
   "source": []
  }
 ],
 "metadata": {
  "kernelspec": {
   "display_name": "Python 3",
   "language": "python",
   "name": "python3"
  },
  "language_info": {
   "codemirror_mode": {
    "name": "ipython",
    "version": 3
   },
   "file_extension": ".py",
   "mimetype": "text/x-python",
   "name": "python",
   "nbconvert_exporter": "python",
   "pygments_lexer": "ipython3",
   "version": "3.5.1"
  }
 },
 "nbformat": 4,
 "nbformat_minor": 0
}
