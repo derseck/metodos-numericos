{
 "cells": [
  {
   "cell_type": "code",
   "execution_count": 6,
   "metadata": {
    "collapsed": false
   },
   "outputs": [
    {
     "name": "stdout",
     "output_type": "stream",
     "text": [
      "108 108\n"
     ]
    }
   ],
   "source": [
    "import math\n",
    "import matplotlib.pyplot as pl\n",
    "\n",
    "\n",
    "g=9.8\n",
    "m=68.1\n",
    "c=12.5\n",
    "\n",
    "eTlr=0.5*math.pow(10,-3)\n",
    "\n",
    "v1=[]\n",
    "t1=[]\n",
    "v2=[]\n",
    "t2=[]\n",
    "\n",
    "tabla=[]\n",
    "\n",
    "eV=[]\n",
    "eL=[]\n",
    "eA=[]\n",
    "\n",
    "def met_1():\n",
    "    for to in range(215):\n",
    "        v=((g*m)/c)*(1-math.exp(-(c/m)*to))\n",
    "        v1.append(v)\n",
    "    \n",
    "def met_2():\n",
    "    vo=0\n",
    "    t=0\n",
    "    ti=2\n",
    "    v2.append(0.0)\n",
    "    for i in range(214):    \n",
    "        v=vo+(g-(c/m)*vo)*(ti-t)\n",
    "        v2.append(v)\n",
    "        t=ti\n",
    "        ti=t+2\n",
    "        vo=v\n",
    "        \n",
    "def error_ver():\n",
    "    cont1=0\n",
    "    cont2=0\n",
    "    while cont1<len(v1): \n",
    "        eV.append(abs(v1[cont1]-v2[cont2]))\n",
    "        t1.append(cont1)\n",
    "        cont1=cont1+2\n",
    "        cont2=cont2+1\n",
    "        \n",
    "    \n",
    "def error_por_ver():\n",
    "    cont=1\n",
    "    eL.append(0.0)\n",
    "    while cont<len(eV):\n",
    "        eL.append((eV[cont]/v2[cont])*100)\n",
    "        cont=cont+1\n",
    "    \n",
    "def error_rel_por_apro():\n",
    "    c1=0\n",
    "    c2=0\n",
    "    while (c1+1)<len(v2):\n",
    "        t2.append(c2)\n",
    "        eA.append((((v2[c1+1]-v2[c1])*100)/v2[c1+1]))\n",
    "        c1=c1+1\n",
    "        c2=c1+1\n",
    "        \n",
    "def errorTolerado():\n",
    "    t=0\n",
    "    while(eA[t]<eTlr & (t+1)<len(v1)):\n",
    "        tabla.append([v1[t+1], v2[t]], t1[t], eV[t], eL[t], eA[t])\n",
    "        \n",
    "def graf():\n",
    "    \n",
    "    pl.ylabel(' ')\n",
    "    pl.xlabel('Tiempo (s)')\n",
    "   \n",
    "    pl.plot(t1,eV,\"-\")\n",
    "    pl.plot(t1,eL,linewidth=2.5)\n",
    "    pl.plot(t2,eA,linewidth=2.5)\n",
    "    pl.grid(True)\n",
    "    pl.axis([-10,50,0,100])\n",
    "    pl.show() \n",
    "\n",
    "met_1()\n",
    "met_2()\n",
    "error_ver()\n",
    "error_por_ver()\n",
    "error_rel_por_apro()\n",
    "graf()\n",
    "\n",
    "#basado en el trabajo de un compañero que me ayudo."
   ]
  },
  {
   "cell_type": "code",
   "execution_count": null,
   "metadata": {
    "collapsed": true
   },
   "outputs": [],
   "source": []
  },
  {
   "cell_type": "code",
   "execution_count": null,
   "metadata": {
    "collapsed": true
   },
   "outputs": [],
   "source": []
  }
 ],
 "metadata": {
  "kernelspec": {
   "display_name": "Python 3",
   "language": "python",
   "name": "python3"
  },
  "language_info": {
   "codemirror_mode": {
    "name": "ipython",
    "version": 3
   },
   "file_extension": ".py",
   "mimetype": "text/x-python",
   "name": "python",
   "nbconvert_exporter": "python",
   "pygments_lexer": "ipython3",
   "version": "3.5.1"
  }
 },
 "nbformat": 4,
 "nbformat_minor": 0
}
