{
 "cells": [
  {
   "cell_type": "code",
   "execution_count": 6,
   "metadata": {
    "collapsed": false
   },
   "outputs": [
    {
     "name": "stdout",
     "output_type": "stream",
     "text": [
      "La media de los datos es= 28.003571428571423\n",
      "La desviacion estandar es= 1.0972970639534427\n",
      "La varianza es=  1.2040608465608456\n",
      "El coeficiente de variacion es= 0.0391841828729708\n",
      "Intervalo de confianza: 27.57556046425131 <= media <= 28.431582392891535\n",
      "El rango que abarca el 68 por ciento es: (26.90627436461798, 29.100868492524867)\n"
     ]
    },
    {
     "data": {
      "image/png": "[encoded data removed]",
      "text/plain": [
       "<matplotlib.figure.Figure at 0x69c18b0>"
      ]
     },
     "metadata": {},
     "output_type": "display_data"
    }
   ],
   "source": [
    "import math\n",
    "import matplotlib.pyplot as plt\n",
    "from matplotlib.pylab import hist,show\n",
    "%matplotlib inline \n",
    "datos=[28.65,26.55,26.65,27.65,27.35,28.35,\n",
    "       26.85,28.65,29.65,27.85,27.05,28.25,28.35,\n",
    "       26.75,27.65,28.45,28.65,28.45,31.65,26.35,27.75,29.25,27.65,28.65, 27.65, 28.55, 27.55, 27.25]\n",
    "\n",
    "def media():\n",
    "    aux=0.0\n",
    "    for i in range(len(datos)):\n",
    "        aux+=datos[i]\n",
    "    m=aux/len(datos)\n",
    "    return (m)\n",
    "\n",
    "def varianza():\n",
    "    aux=0.0\n",
    "    for j in range(len(datos)):\n",
    "        aux+=math.pow((datos[j]-media()),2)\n",
    "    v=aux/(len(datos)-1)\n",
    "    return v\n",
    "\n",
    "def confianza():\n",
    "    mini=media()-((math.sqrt(varianza())/math.sqrt(len(datos)))*2.064)\n",
    "    maxi=media()+((math.sqrt(varianza())/math.sqrt(len(datos)))*2.064)\n",
    "    print (\"Intervalo de confianza:\",mini,\"<= media <=\",maxi)\n",
    "\n",
    "print (\"La media de los datos es=\",media())\n",
    "print (\"La desviacion estandar es=\",(math.sqrt(varianza())))\n",
    "print (\"La varianza es= \",varianza())\n",
    "print (\"El coeficiente de variacion es=\",(math.sqrt(varianza())/media()))\n",
    "confianza()\n",
    "lmin=media()-math.sqrt(varianza())\n",
    "lmax=media()+math.sqrt(varianza())\n",
    "print (\"El rango que abarca el 68 por ciento es:\",(lmin,lmax))\n",
    "\n",
    "hist(datos,28,(24,33))\n",
    "plt.title(\"Histograma\")\n",
    "plt.ylabel('Frecuencia')\n",
    "plt.xlabel('Datos')\n",
    "show()"
   ]
  },
  {
   "cell_type": "code",
   "execution_count": null,
   "metadata": {
    "collapsed": true
   },
   "outputs": [],
   "source": []
  }
 ],
 "metadata": {
  "kernelspec": {
   "display_name": "Python 3",
   "language": "python",
   "name": "python3"
  },
  "language_info": {
   "codemirror_mode": {
    "name": "ipython",
    "version": 3
   },
   "file_extension": ".py",
   "mimetype": "text/x-python",
   "name": "python",
   "nbconvert_exporter": "python",
   "pygments_lexer": "ipython3",
   "version": "3.5.1"
  }
 },
 "nbformat": 4,
 "nbformat_minor": 0
}
