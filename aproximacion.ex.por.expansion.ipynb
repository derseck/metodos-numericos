{
 "cells": [
  {
   "cell_type": "code",
   "execution_count": 6,
   "metadata": {
    "collapsed": false
   },
   "outputs": [
    {
     "name": "stdout",
     "output_type": "stream",
     "text": [
      "1.0\n",
      "1.5\n",
      "1.625\n",
      "1.6458333333333333\n",
      "1.6484375\n",
      "1.6486979166666667\n",
      "1.6487196180555554\n",
      "1.6487211681547618\n",
      "1.6487212650359622\n",
      "1.648721270418251\n",
      "1.6487212706873655\n",
      "1.648721270699598\n",
      "1.6487212707001075\n",
      "1.648721270700127\n",
      "1.6487212707001278\n",
      "1.6487212707001278\n",
      "1.6487212707001278\n",
      "1.6487212707001278\n",
      "1.6487212707001278\n",
      "1.6487212707001278\n"
     ]
    }
   ],
   "source": [
    "import math\n",
    "\n",
    "def factorial(n):\n",
    "    cont=1\n",
    "    rta=1\n",
    "    \n",
    "    while cont<=n :\n",
    "        rta*=cont\n",
    "        cont+=1\n",
    "        \n",
    "    return (rta)\n",
    "\n",
    "def serie(n):\n",
    "    x=1/2\n",
    "    con=1\n",
    "    fun=1\n",
    "    fun=((x**n)/factorial(n))\n",
    "    con+=1\n",
    "    \n",
    "    return (fun)\n",
    "\n",
    "rta2=0\n",
    "for d in range(26):\n",
    "    rta2=rta2+serie(d)\n",
    "    print (rta2)"
   ]
  },
  {
   "cell_type": "code",
   "execution_count": null,
   "metadata": {
    "collapsed": true
   },
   "outputs": [],
   "source": []
  }
 ],
 "metadata": {
  "kernelspec": {
   "display_name": "Python 3",
   "language": "python",
   "name": "python3"
  },
  "language_info": {
   "codemirror_mode": {
    "name": "ipython",
    "version": 3
   },
   "file_extension": ".py",
   "mimetype": "text/x-python",
   "name": "python",
   "nbconvert_exporter": "python",
   "pygments_lexer": "ipython3",
   "version": "3.5.1"
  }
 },
 "nbformat": 4,
 "nbformat_minor": 0
}
