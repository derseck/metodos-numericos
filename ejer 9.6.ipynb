{
 "cells": [
  {
   "cell_type": "code",
   "execution_count": 6,
   "metadata": {
    "collapsed": false
   },
   "outputs": [
    {
     "name": "stdout",
     "output_type": "stream",
     "text": [
      "El determinante= 1\n",
      "X=  6.0\n",
      "y=  -8.0\n",
      "z=  5.0\n",
      "la ecuacion 1 da= 9.0\n",
      "la ecuacion 2 da= 9.0\n",
      "la ecuacion 3 da= 10.0\n"
     ]
    }
   ],
   "source": [
    "matriz=[[0,2,5],[2,1,1],[3,1,0]]\n",
    "solucion=[9,9,10]\n",
    "\n",
    "\n",
    "det1=matriz[0][0]*(matriz[1][1]*matriz[2][2]-matriz[1][2]*matriz[2][1])\n",
    "det2=matriz[0][1]*(matriz[1][0]*matriz[2][2]-matriz[1][2]*matriz[2][0])\n",
    "det3=matriz[0][2]*(matriz[1][0]*matriz[2][1]-matriz[1][1]*matriz[2][0])\n",
    "det=(det1)-(det2)+(det3)\n",
    "print (\"El determinante=\",det)\n",
    "\n",
    "detxa=solucion[0]*(matriz[1][1]*matriz[2][2]-matriz[1][2]*matriz[2][1])\n",
    "detxb=solucion[1]*(matriz[0][1]*matriz[2][2]-matriz[2][1]*matriz[0][2])\n",
    "detxc=solucion[2]*(matriz[0][1]*matriz[1][2]-matriz[1][1]*matriz[0][2])\n",
    "detx=(detxa)-(detxb)+(detxc)\n",
    "\n",
    "\n",
    "detya=solucion[0]*(matriz[1][0]*matriz[2][2]-matriz[2][0]*matriz[1][2])\n",
    "detyb=solucion[1]*(matriz[0][0]*matriz[2][2]-matriz[2][0]*matriz[0][2])\n",
    "detyc=solucion[2]*(matriz[0][0]*matriz[1][2]-matriz[1][0]*matriz[0][2])\n",
    "dety=-1*(detya)+(detyb)-(detyc)\n",
    "\n",
    "\n",
    "detza=solucion[0]*(matriz[1][0]*matriz[2][1]-matriz[2][0]*matriz[1][1])\n",
    "detzb=solucion[1]*(matriz[0][0]*matriz[2][1]-matriz[2][0]*matriz[0][1])\n",
    "detzc=solucion[2]*(matriz[0][0]*matriz[1][1]-matriz[1][0]*matriz[0][1])\n",
    "detz=(detza)-(detzb)+(detzc)\n",
    "\n",
    "x=detx/det\n",
    "y=dety/det\n",
    "z=detz/det\n",
    "\n",
    "print (\"X= \",x1)\n",
    "print (\"y= \",x2)\n",
    "print (\"z= \",x3)\n",
    "\n",
    "ecu1=2*y+5*z\n",
    "ecu2=2*x+y+z\n",
    "ecu3=3*x+y\n",
    "\n",
    "if(ecu1==solucion[0]):\n",
    "    print (\"la ecuacion 1 da=\",ecu1)\n",
    "if(ecu2==solucion[1]):\n",
    "    print (\"la ecuacion 2 da=\",ecu2)\n",
    "if(ecu3==solucion[2]):\n",
    "    print (\"la ecuacion 3 da=\",ecu3)"
   ]
  },
  {
   "cell_type": "code",
   "execution_count": null,
   "metadata": {
    "collapsed": true
   },
   "outputs": [],
   "source": []
  }
 ],
 "metadata": {
  "kernelspec": {
   "display_name": "Python 3",
   "language": "python",
   "name": "python3"
  },
  "language_info": {
   "codemirror_mode": {
    "name": "ipython",
    "version": 3
   },
   "file_extension": ".py",
   "mimetype": "text/x-python",
   "name": "python",
   "nbconvert_exporter": "python",
   "pygments_lexer": "ipython3",
   "version": "3.5.1"
  }
 },
 "nbformat": 4,
 "nbformat_minor": 0
}
