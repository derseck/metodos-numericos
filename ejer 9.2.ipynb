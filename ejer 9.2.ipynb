{
 "cells": [
  {
   "cell_type": "code",
   "execution_count": null,
   "metadata": {
    "collapsed": true
   },
   "outputs": [],
   "source": [
    "a) Cuáles son las dimensiones de las matrices \n",
    "A=[[4,7],[1,2],[5,6]] \n",
    "B=[[4,3,7],[1,2,7],[1,0,4]] \n",
    "C=[3,6,1] \n",
    "D=[[9,4,3,-6],[2,-1,7,5]] \n",
    "E=[[1,5,8],[7,2,3],[4,0,6]] \n",
    "F=[[3,0,1],[1,7,3]] \n",
    "G=[7,6,4]\n",
    "\n",
    "Rta= [A]:3x2 , [B]: 3X3, [C]: 3X1, [D]: 2X4, [E]: 3X3, [F]: 2X3, [G]: 1X3"
   ]
  },
  {
   "cell_type": "code",
   "execution_count": null,
   "metadata": {
    "collapsed": true
   },
   "outputs": [],
   "source": [
    "b)Identifique las matrices cuadrada, columna y renglón.\n",
    "\n",
    "Rta= Cuadrada: [B],[E]; Columna: [C]; Renglón: [G]"
   ]
  },
  {
   "cell_type": "code",
   "execution_count": null,
   "metadata": {
    "collapsed": true
   },
   "outputs": [],
   "source": [
    "Cuáles son los valores de a12,b23,d32,e22,f12 y g12\n",
    "\n",
    "a12=7; b23=7; d32=no existe la fila 3; e22=2; f12=0; g12=6"
   ]
  },
  {
   "cell_type": "code",
   "execution_count": 1,
   "metadata": {
    "collapsed": false
   },
   "outputs": [
    {
     "name": "stdout",
     "output_type": "stream",
     "text": [
      "La suma de las matrices E+B es: \n",
      "[[5, 8, 15], [8, 4, 10], [5, 0, 10]]\n",
      "\n",
      " La suma de las matrices A+F no se puede realizar\n",
      "\n",
      " La resta de las matrices B-E es: \n",
      "[[3, -2, -1], [-6, 0, 4], [-3, 0, -2]]\n",
      "\n",
      " 7x[B]= \n",
      "[[28, 21, 49], [7, 14, 49], [7, 0, 28]]\n",
      "\n",
      " El producto entre las matrices ExB es: \n",
      "[[17, 13, 74], [33, 25, 75], [22, 12, 52]]\n",
      "\n",
      " La traspuesta de {C} es: \n",
      "[[3, 6, 1]]\n",
      "\n",
      " El producto entre las matrices BxA es: \n",
      "[[54, 76], [41, 53], [24, 31]]\n",
      "\n",
      " La traspuesta de [D] es: \n",
      "[[9, 2], [4, -1], [3, 7], [-6, 5]]\n",
      "\n",
      "  El producto de [I]x[B] es: \n",
      "[[4, 3, 7], [1, 2, 7], [1, 0, 4]]\n",
      "\n",
      " El producto de [E]^T x [E] es: \n",
      "[[66, 19, 53], [19, 29, 46], [53, 46, 109]]\n",
      "\n",
      " El producto de {C}^T x {C} es: \n",
      "[[46]]\n"
     ]
    }
   ],
   "source": [
    "#realize las operaciones\n",
    "\n",
    "A=[[4,7],[1,2],[5,6]]\n",
    "B=[[4,3,7],[1,2,7],[1,0,4]]\n",
    "C=[[3],[6],[1]]\n",
    "D=[[9,4,3,-6],[2,-1,7,5]]\n",
    "E=[[1,5,8],[7,2,3],[4,0,6]]\n",
    "F=[[3,0,1],[1,7,3]]\n",
    "G=[7,6,4]\n",
    "I=[[1,0,0],[0,1,0],[0,0,1]]\n",
    "\n",
    "def producto(a,b):\n",
    "    res=[]\n",
    "    for i in range(len(a)):\n",
    "        res.append([0]*(len(b[0])))\n",
    "    for i in range(len(a)):\n",
    "        for j in range(len(b[0])):\n",
    "            for k in range(len(a[0])):\n",
    "                res[i][j]+= a[i][k]*b[k][j]\n",
    "    return res\n",
    "\n",
    "def traspuesta(a):\n",
    "    tras=[]\n",
    "    for i in range(len(a[0])):\n",
    "        tras.append(len(a)*[0])\n",
    "        for j in range(len(tras[0])):\n",
    "            for k in range(len(tras)):\n",
    "                tras[k][j]=a[j][k]\n",
    "    return tras\n",
    "\n",
    "#[E]+[B]\n",
    "sumEB=[]\n",
    "for i in range(3):\n",
    "    sumEB.append([])\n",
    "    for j in range(3):\n",
    "        sumEB[i].append(E[i][j]+B[i][j])\n",
    "\n",
    "print (\"La suma de las matrices E+B es: \")\n",
    "print (sumEB)\n",
    "\n",
    "#[A]+[F]\n",
    "print (\"\\n La suma de las matrices A+F no se puede realizar\")\n",
    "\n",
    "#[B]-[E]\n",
    "restaBE=[]\n",
    "for i in range(3):#filas\n",
    "    restaBE.append([])\n",
    "    for j in range(3):#columnas\n",
    "         restaBE[i].append(B[i][j]-E[i][j])\n",
    "\n",
    "print (\"\\n La resta de las matrices B-E es: \")\n",
    "print (restaBE)\n",
    "\n",
    "#7x[B]\n",
    "prod=[]\n",
    "for i in range(3):#filas\n",
    "    prod.append([])\n",
    "    for j in range(3):#columnas\n",
    "         prod[i].append(7*B[i][j])\n",
    "\n",
    "print (\"\\n 7x[B]= \")\n",
    "print (prod)\n",
    "\n",
    "\n",
    "# [E]x[B]\n",
    "print (\"\\n El producto entre las matrices ExB es: \")\n",
    "print (producto(E,B))\n",
    "\n",
    "# {C}^T\n",
    "print (\"\\n La traspuesta de {C} es: \")\n",
    "print (traspuesta(C))\n",
    "\n",
    "# [B]x[A]\n",
    "print (\"\\n El producto entre las matrices BxA es: \")\n",
    "print (producto(B,A))\n",
    "\n",
    "# [D]^T\n",
    "print (\"\\n La traspuesta de [D] es: \")       \n",
    "print (traspuesta(D))\n",
    "\n",
    "# [I]x[B]\n",
    "print (\"\\n  El producto de [I]x[B] es: \")           \n",
    "print (producto(I,B))\n",
    "\n",
    "# [E]^T x [E]         \n",
    "print (\"\\n El producto de [E]^T x [E] es: \")\n",
    "print (producto(traspuesta(E),E))\n",
    "\n",
    "# {C}^T x {C} \n",
    "print (\"\\n El producto de {C}^T x {C} es: \")\n",
    "print (producto(traspuesta(C),C))\n",
    "\n"
   ]
  },
  {
   "cell_type": "code",
   "execution_count": null,
   "metadata": {
    "collapsed": true
   },
   "outputs": [],
   "source": []
  }
 ],
 "metadata": {
  "kernelspec": {
   "display_name": "Python 3",
   "language": "python",
   "name": "python3"
  },
  "language_info": {
   "codemirror_mode": {
    "name": "ipython",
    "version": 3
   },
   "file_extension": ".py",
   "mimetype": "text/x-python",
   "name": "python",
   "nbconvert_exporter": "python",
   "pygments_lexer": "ipython3",
   "version": "3.5.1"
  }
 },
 "nbformat": 4,
 "nbformat_minor": 0
}
