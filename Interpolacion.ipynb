{
 "cells": [
  {
   "cell_type": "code",
   "execution_count": 14,
   "metadata": {
    "collapsed": false
   },
   "outputs": [
    {
     "name": "stdout",
     "output_type": "stream",
     "text": [
      "ingrese el valor de x0\n",
      "1\n",
      "ingrese el valor de x1\n",
      "4\n",
      "ingrese el valor de x2\n",
      "6\n",
      "ingrese el valor de x a calcular\n",
      "2\n",
      "rta 0.46209812037329684\n"
     ]
    }
   ],
   "source": [
    "#interpolacion lineal\n",
    "import math\n",
    "\n",
    "print(\"ingrese el valor de x0\")\n",
    "x0 = float(input())\n",
    "print(\"ingrese el valor de x1\")\n",
    "x1 = float(input())\n",
    "print(\"ingrese el valor de x2\")\n",
    "x2 = float(input())\n",
    "fx0 = math.log(x0,math.e)\n",
    "fx1 = math.log(x1,math.e)\n",
    "fx2 = math.log(x2,math.e)\n",
    "print(\"ingrese el valor de x a calcular\")\n",
    "x = float(input())\n",
    "frta=fx0+((fx1-fx0)/(x1-x0))*(x-x0)\n",
    "print (\"rta\",frta)"
   ]
  },
  {
   "cell_type": "code",
   "execution_count": 15,
   "metadata": {
    "collapsed": false
   },
   "outputs": [
    {
     "name": "stdout",
     "output_type": "stream",
     "text": [
      "ingrese el valor de x0\n",
      "1\n",
      "ingrese el valor de x1\n",
      "4\n",
      "ingrese el valor de x2\n",
      "6\n",
      "ingrese el valor de x a calcular\n",
      "2\n",
      "rta 0.5658443469009827\n"
     ]
    }
   ],
   "source": [
    "#interpolacion quadratica\n",
    "import math\n",
    "\n",
    "print(\"ingrese el valor de x0\")\n",
    "x0 = float(input())\n",
    "print(\"ingrese el valor de x1\")\n",
    "x1 = float(input())\n",
    "print(\"ingrese el valor de x2\")\n",
    "x2 = float(input())\n",
    "fx0 = math.log(x0,math.e)\n",
    "fx1 = math.log(x1,math.e)\n",
    "fx2 = math.log(x2,math.e)\n",
    "b0 = fx0\n",
    "b1 = (fx1-fx0)/(x1-x0)\n",
    "b2 = (((fx2-fx1)/(x2-x1))-((fx1-fx0)/(x1-x0)))/(x2-x0)\n",
    "print(\"ingrese el valor de x a calcular\")\n",
    "x = float(input())\n",
    "\n",
    "frta=b0+b1*x-b1*x0+b2*(x**2)+b2*x0*x1-b2*x0*x-b2*x1*x\n",
    "\n",
    "print (\"rta\",frta)"
   ]
  },
  {
   "cell_type": "code",
   "execution_count": null,
   "metadata": {
    "collapsed": true
   },
   "outputs": [],
   "source": []
  }
 ],
 "metadata": {
  "kernelspec": {
   "display_name": "Python 3",
   "language": "python",
   "name": "python3"
  },
  "language_info": {
   "codemirror_mode": {
    "name": "ipython",
    "version": 3
   },
   "file_extension": ".py",
   "mimetype": "text/x-python",
   "name": "python",
   "nbconvert_exporter": "python",
   "pygments_lexer": "ipython3",
   "version": "3.5.1"
  }
 },
 "nbformat": 4,
 "nbformat_minor": 0
}
