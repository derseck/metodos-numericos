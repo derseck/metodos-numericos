{
 "cells": [
  {
   "cell_type": "code",
   "execution_count": null,
   "metadata": {
    "collapsed": true
   },
   "outputs": [],
   "source": [
    "import math\n",
    "import matplotlib.pyplot as plt\n",
    "%matplotlib inline\n",
    "from tabulate import tabulate\n",
    "datos=[]\n",
    "def func(x):\n",
    "    valor=x*(1-math.exp(-135/x))-53.57\n",
    "    return valor\n",
    "#Falsa Posición\n",
    "xl,xu,xr,fxl,fxr,xrant,i=55.0,60.0,0.0,1.0,1.0,0.0,1.0\n",
    "es=0.1\n",
    "verd=59.841\n",
    "while 1:\n",
    "    xrant=xr\n",
    "    xr=xu-(func(xu)*(xl-xu))/(func(xl)-func(xu))\n",
    "    ea=math.fabs((xr-xrant)/xr)*100\n",
    "    et=math.fabs((verd-xr)/xr)*100\n",
    "    datos.append([i,xl,xu,xr,ea,et])\n",
    "    if((fxl*fxr)<0):\n",
    "        xu=xr\n",
    "    if((fxl*fxr)>0):\n",
    "        xl=xr\n",
    "    i+=1\n",
    "    if(ea<=es):\n",
    "        break\n",
    "print \"Falsa posición\"\n",
    "print tabulate(datos,headers=[\"Iteracion\", \"xl\", \"xu\",\"xr\",\"Ea(%)\",\"Et(%)\"],tablefmt='pipe')"
   ]
  }
 ],
 "metadata": {
  "kernelspec": {
   "display_name": "Python 3",
   "language": "python",
   "name": "python3"
  },
  "language_info": {
   "codemirror_mode": {
    "name": "ipython",
    "version": 3
   },
   "file_extension": ".py",
   "mimetype": "text/x-python",
   "name": "python",
   "nbconvert_exporter": "python",
   "pygments_lexer": "ipython3",
   "version": "3.5.1"
  }
 },
 "nbformat": 4,
 "nbformat_minor": 0
}
