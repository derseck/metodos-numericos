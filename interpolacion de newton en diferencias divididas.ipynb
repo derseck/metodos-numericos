{
 "cells": [
  {
   "cell_type": "code",
   "execution_count": 10,
   "metadata": {
    "collapsed": false
   },
   "outputs": [
    {
     "name": "stdout",
     "output_type": "stream",
     "text": [
      "ingrese el numero de puntos\n",
      "4\n",
      "ingrese el valor que quiere estimar\n",
      "2\n",
      "Ingrese el X 0 : \n",
      "1\n",
      "Ingrese el X 1 : \n",
      "4\n",
      "Ingrese el X 2 : \n",
      "6\n",
      "Ingrese el X 3 : \n",
      "5\n",
      "El valor de b 0  es:  0.0\n",
      "El valor de b 1  es:  0.46209812037329684\n",
      "El valor de b 2  es:  -0.05187311326384293\n",
      "El valor de b 3  es:  0.007865529000928854\n",
      "la solucion para ln( 2.0 ) es:  0.6287685789084135\n"
     ]
    }
   ],
   "source": [
    "import math\n",
    "\n",
    "print (\"ingrese el numero de puntos\")\n",
    "n=int(input())\n",
    "print (\"ingrese el valor que quiere estimar\")\n",
    "val=float(input())\n",
    "x,b=[],[]\n",
    "for a in range(n):\n",
    "    print(\"Ingrese el X\",a,\": \")\n",
    "    x.append(float(input()))\n",
    "\n",
    "def funf(n):\n",
    "    f=math.log(n,math.e)\n",
    "    return (f)\n",
    "\n",
    "def metodoNewton(aux):\n",
    "    rta=0\n",
    "    if(len(aux)==2):\n",
    "        rta=(funf(aux[1])-funf(aux[0]))/(aux[1]-aux[0])\n",
    "    else: \n",
    "        rta=(metodoNewton(aux[1:len(aux)])-metodoNewton(aux[0:len(aux)-1]))/(aux[len(aux)-1]-aux[0])\n",
    "    return rta\n",
    "\n",
    "def evaluar(xi):\n",
    "    while(len(b)<len(xi)):\n",
    "        if(len(b)==0):\n",
    "            b.append(funf(xi[0]))\n",
    "        else:\n",
    "            b.append(metodoNewton(xi[0:len(b)+1]))\n",
    "            \n",
    "def solucion(vcalcular):\n",
    "    fx=0\n",
    "    for i in range(len(b)):\n",
    "        aux2=1\n",
    "        for o in range(i):\n",
    "            aux2=aux2*(vcalcular-x[o])\n",
    "        fx+=b[i]*aux2\n",
    "    return fx\n",
    "\n",
    "evaluar(x)\n",
    "for g in range(n):\n",
    "    print (\"El valor de b\",g,\" es: \",b[g])\n",
    "print (\"la solucion para ln(\",val,\") es: \",solucion(val))"
   ]
  },
  {
   "cell_type": "code",
   "execution_count": null,
   "metadata": {
    "collapsed": true
   },
   "outputs": [],
   "source": []
  },
  {
   "cell_type": "code",
   "execution_count": null,
   "metadata": {
    "collapsed": true
   },
   "outputs": [],
   "source": []
  }
 ],
 "metadata": {
  "kernelspec": {
   "display_name": "Python 3",
   "language": "python",
   "name": "python3"
  },
  "language_info": {
   "codemirror_mode": {
    "name": "ipython",
    "version": 3
   },
   "file_extension": ".py",
   "mimetype": "text/x-python",
   "name": "python",
   "nbconvert_exporter": "python",
   "pygments_lexer": "ipython3",
   "version": "3.5.1"
  }
 },
 "nbformat": 4,
 "nbformat_minor": 0
}
