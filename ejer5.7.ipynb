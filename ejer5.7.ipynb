{
 "cells": [
  {
   "cell_type": "code",
   "execution_count": null,
   "metadata": {
    "collapsed": true
   },
   "outputs": [],
   "source": [
    "import math\n",
    "import matplotlib.pyplot as plt\n",
    "i=-3\n",
    "\n",
    "verd=2.66667\n",
    "X,Y=[],[]\n",
    "def funcion(x):\n",
    "    valor=(0.8-0.3*x)/x\n",
    "    return valor\n",
    "\n",
    "print (\"METODO ANALITICO RAIZ: \",str(verd))\n",
    "while 1:\n",
    "    if(i==0):\n",
    "        X.append(-0.1)\n",
    "        Y.append(-9)\n",
    "        X.append(0.1)\n",
    "        Y.append(9)\n",
    "        \n",
    "    else:\n",
    "        X.append(i)\n",
    "        Y.append(funcion(i))\n",
    "    i=i+1\n",
    "    if(i==4):\n",
    "        break\n",
    "    \n",
    "plt.axis([-3,3,-5,5])\n",
    "plt.plot(X,Y)\n",
    "plt.title(\"METODO GRAFICO\")\n",
    "plt.xlabel(\"TIEMPO\")\n",
    "plt.ylabel(\"VELOCIDAD\")\n",
    "plt.show()\n",
    "\n",
    "xl,xu,xr,fxl,fxr,xrant,i=1.0,3.0,0.0,1.0,1.0,0.0,1\n",
    "print (\"Método Bisección\")\n",
    "print(\"{0:10} | {1:10} | {2:10} | {3:10} | {4:10} | {5:10} |\".format(\"Iteracion\", \"xl\", \"xu\",\"xr\",\"Ea(%)\",\"Et(%)\"))\n",
    "for i in range(1,4):\n",
    "    xrant=xr\n",
    "    xr=(xl+xu)/2\n",
    "    fxl=funcion(xl)\n",
    "    fxr=funcion(xr)\n",
    "    ea=math.fabs((xr-xrant)/xr)*100\n",
    "    et=math.fabs((verd-xr)/xr)*100\n",
    "    print(\"{0:10} | {1:10} | {2:10} | {3:10} | {4:10} | {5:10} |\".format(i,xl,xu,xr,ea,et));\n",
    "    if((fxl*fxr)<0):\n",
    "        xu=xr\n",
    "    if((fxl*fxr)>0):\n",
    "        xl=xr\n",
    "\n",
    "xl,xu,xr,fxl,fxr,xrant,i=1.0,3.0,0.0,1.0,1.0,0.0,1\n",
    "print (\"Falsa posición\")\n",
    "print(\"{0:10} | {1:10} | {2:10} | {3:10} | {4:10} | {5:10} |\".format(\"Iteracion\", \"xl\", \"xu\",\"xr\",\"Ea(%)\",\"Et(%)\"))\n",
    "for i in range(1,4):\n",
    "    xrant=xr\n",
    "    xr=xu-(funcion(xu)*(xl-xu))/(funcion(xl)-funcion(xu))\n",
    "    ea=math.fabs((xr-xrant)/xr)*100\n",
    "    et=math.fabs((verd-xr)/xr)*100\n",
    "    print(\"{0:10} | {1:10} | {2:10} | {3:10} | {4:10} | {5:10} |\".format(i,xl,xu,xr,ea,et));\n",
    "    if((fxl*fxr)<0):\n",
    "        xu=xr\n",
    "    if((fxl*fxr)>0):\n",
    "        xl=xr"
   ]
  }
 ],
 "metadata": {
  "kernelspec": {
   "display_name": "Python 3",
   "language": "python",
   "name": "python3"
  },
  "language_info": {
   "codemirror_mode": {
    "name": "ipython",
    "version": 3
   },
   "file_extension": ".py",
   "mimetype": "text/x-python",
   "name": "python",
   "nbconvert_exporter": "python",
   "pygments_lexer": "ipython3",
   "version": "3.5.1"
  }
 },
 "nbformat": 4,
 "nbformat_minor": 0
}
