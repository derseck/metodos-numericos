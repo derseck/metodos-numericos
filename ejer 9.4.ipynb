{
 "cells": [
  {
   "cell_type": "code",
   "execution_count": 5,
   "metadata": {
    "collapsed": false
   },
   "outputs": [
    {
     "name": "stdout",
     "output_type": "stream",
     "text": [
      "La solucion para X1=  4\n",
      "La solucion para X2=  5\n"
     ]
    },
    {
     "data": {
      "image/png": "[encoded data removed]",
      "text/plain": [
       "<matplotlib.figure.Figure at 0x54eafb0>"
      ]
     },
     "metadata": {},
     "output_type": "display_data"
    },
    {
     "name": "stdout",
     "output_type": "stream",
     "text": [
      "El resultado de la primera ecuacion es:  -24\n",
      "El resultado de la segunda ecuacion es:  34\n"
     ]
    }
   ],
   "source": [
    "# 9.4 Use el método gráfico para resolver el sistema siguiente: 4X1-8X2=-24; X1+6*X2=34.\n",
    "\n",
    "import matplotlib.pyplot as plt\n",
    "%matplotlib inline\n",
    "\n",
    "val=[]\n",
    "fun1=[]\n",
    "fun2=[]\n",
    "a,b,c=0,0,0\n",
    "for i in range (10):\n",
    "    x2=((1.0/2.0)*i)+3.0\n",
    "    x2b=((-1.0/6.0)*i)+(34.0/6.0)\n",
    "    val.append(i)\n",
    "    fun1.append(x2)\n",
    "    fun2.append(x2b)\n",
    "\n",
    "while c<=10:\n",
    "    fx1=(-32*a)+136\n",
    "    fx2=(4*a)+18\n",
    "    if(fx1==-24):\n",
    "        print (\"La solucion para X2= \",a)\n",
    "        punto1=a\n",
    "    if(fx2==34):\n",
    "        print (\"La solucion para X1= \",b)\n",
    "        punto2=b\n",
    "    a+=1\n",
    "    b+=1\n",
    "    c+=1\n",
    "    \n",
    "plt.grid(True)\n",
    "plt.axis([0,10,0,10])\n",
    "plt.ylabel('x2')\n",
    "plt.xlabel('x1')\n",
    "plt.plot(val, fun1, 'b-', linewidth=1.5)\n",
    "plt.plot(val, fun2, 'r-',linewidth=1.5)\n",
    "plt.plot(punto2,punto1, 'bo')\n",
    "plt.show()\n",
    "\n",
    "ecu1=4*punto2-8*punto1\n",
    "print (\"El resultado de la primera ecuacion es: \",ecu1)\n",
    "ecu2=punto2+6*punto1\n",
    "print (\"El resultado de la segunda ecuacion es: \",ecu2)"
   ]
  },
  {
   "cell_type": "code",
   "execution_count": null,
   "metadata": {
    "collapsed": true
   },
   "outputs": [],
   "source": []
  }
 ],
 "metadata": {
  "kernelspec": {
   "display_name": "Python 3",
   "language": "python",
   "name": "python3"
  },
  "language_info": {
   "codemirror_mode": {
    "name": "ipython",
    "version": 3
   },
   "file_extension": ".py",
   "mimetype": "text/x-python",
   "name": "python",
   "nbconvert_exporter": "python",
   "pygments_lexer": "ipython3",
   "version": "3.5.1"
  }
 },
 "nbformat": 4,
 "nbformat_minor": 0
}
