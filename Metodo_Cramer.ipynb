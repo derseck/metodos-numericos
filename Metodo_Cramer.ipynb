{
 "cells": [
  {
   "cell_type": "code",
   "execution_count": 21,
   "metadata": {
    "collapsed": false
   },
   "outputs": [
    {
     "name": "stdout",
     "output_type": "stream",
     "text": [
      "valores de a\n",
      "5\n",
      "valores de b\n",
      "2\n",
      "valores de c\n",
      "-1\n",
      "valores de r\n",
      "-2\n",
      "valores de a\n",
      "8\n",
      "valores de b\n",
      "4\n",
      "valores de c\n",
      "1.5\n",
      "valores de r\n",
      "-3\n",
      "valores de a\n",
      "9\n",
      "valores de b\n",
      "15\n",
      "valores de c\n",
      "-8\n",
      "valores de r\n",
      "-4\n",
      "[5.0, 8.0, 9.0]\n",
      "[2.0, 4.0, 15.0]\n",
      "[-1.0, 1.5, -8.0]\n",
      "determinante:  -201.5\n",
      "valor de x: -459.5\n",
      "valor de y: 319.0\n",
      "valor de z: 16.5\n"
     ]
    }
   ],
   "source": [
    "import math\n",
    "\n",
    "a=[]\n",
    "b=[]\n",
    "c=[]\n",
    "r=[]\n",
    "\n",
    "def rellenar():\n",
    "    \n",
    "    for t in range(3):\n",
    "        print ('valores de a')\n",
    "        aux=(float(input()))\n",
    "        a.append(aux)\n",
    "        print ('valores de b')\n",
    "        aux1=(float(input()))\n",
    "        b.append(aux1)\n",
    "        print ('valores de c')\n",
    "        aux3=(float(input()))\n",
    "        c.append(aux3)\n",
    "        print ('valores de r')\n",
    "        aux4=(float(input()))\n",
    "        r.append(aux4)\n",
    "    print (a)\n",
    "    print (b)\n",
    "    print (c)\n",
    "\n",
    "def determinante():\n",
    "    \n",
    "    deta=(a[0]*((b[1]*c[2])-(c[1]*b[2])))\n",
    "    detb=(a[1]*((b[0]*c[2])-(c[0]*b[2])))\n",
    "    detc=(a[2]*((b[0]*c[1])-(c[0]*b[1])))\n",
    "    det=deta-detb+detc\n",
    "    print ('determinante: ',det)\n",
    "    \n",
    "    x=(r[0]*((b[1]*c[2])-(c[1]*b[2])))-(a[1]*((r[1]*c[2])-(r[2]*b[2])))+(a[2]*((r[1]*c[1])-(r[2]*b[1])))\n",
    "    y=(a[0]*((r[1]*c[2])-(r[2]*b[2])))-(r[0]*((b[0]*c[2])-(c[0]*b[2])))+(a[2]*((b[0]*r[2])-(c[0]*r[1])))\n",
    "    z=(a[0]*((b[1]*r[2])-(c[1]*r[1])))-(a[1]*((b[0]*r[2])-(c[0]*r[1])))+(r[0]*((b[0]*c[1])-(c[0]*b[1])))\n",
    "    \n",
    "    print ('valor de x:',x)\n",
    "    print ('valor de y:',y)\n",
    "    print ('valor de z:',z)\n",
    "\n",
    "rellenar()\n",
    "determinante()"
   ]
  },
  {
   "cell_type": "code",
   "execution_count": null,
   "metadata": {
    "collapsed": true
   },
   "outputs": [],
   "source": []
  },
  {
   "cell_type": "code",
   "execution_count": null,
   "metadata": {
    "collapsed": true
   },
   "outputs": [],
   "source": []
  }
 ],
 "metadata": {
  "kernelspec": {
   "display_name": "Python 3",
   "language": "python",
   "name": "python3"
  },
  "language_info": {
   "codemirror_mode": {
    "name": "ipython",
    "version": 3
   },
   "file_extension": ".py",
   "mimetype": "text/x-python",
   "name": "python",
   "nbconvert_exporter": "python",
   "pygments_lexer": "ipython3",
   "version": "3.5.1"
  }
 },
 "nbformat": 4,
 "nbformat_minor": 0
}
