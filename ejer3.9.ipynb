{
 "cells": [
  {
   "cell_type": "code",
   "execution_count": null,
   "metadata": {
    "collapsed": true
   },
   "outputs": [],
   "source": [
    "x=0.3*math.pi\n",
    "tabla=[]\n",
    "Es=(0.5*math.pow(10,(-6)))\n",
    "Val=round(math.cos(x), 8)\n",
    "serie,i ,n =0,0,1\n",
    "band=False\n",
    "while 1:\n",
    "    if(i%2==0):\n",
    "        cosxaprox=math.pow(x, i)/math.factorial(i)\n",
    "        ant=serie\n",
    "        if(band==False):\n",
    "            serie=serie+cosxaprox\n",
    "            band=True\n",
    "        else:\n",
    "            serie=serie-cosxaprox\n",
    "            band=False\n",
    "        Ev=math.fabs(Val-serie)\n",
    "        Et=(Ev/serie)*100\n",
    "        Ea=((serie-ant)/serie)*100\n",
    "        tabla.append([n,serie,str(Et)+\" %\",str(Ea)+\" %\"])\n",
    "        n+=1\n",
    "    if(math.fabs(Ea)<Es):\n",
    "        break\n",
    "    i+=1\n",
    "    \n",
    "print tabulate(tabla, headers=[\"Termino\", \"Cos X Aprox\", \"Et % \", \"Ea %\"])"
   ]
  }
 ],
 "metadata": {
  "kernelspec": {
   "display_name": "Python 3",
   "language": "python",
   "name": "python3"
  },
  "language_info": {
   "codemirror_mode": {
    "name": "ipython",
    "version": 3
   },
   "file_extension": ".py",
   "mimetype": "text/x-python",
   "name": "python",
   "nbconvert_exporter": "python",
   "pygments_lexer": "ipython3",
   "version": "3.5.1"
  }
 },
 "nbformat": 4,
 "nbformat_minor": 0
}
