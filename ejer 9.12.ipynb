{
 "cells": [
  {
   "cell_type": "code",
   "execution_count": 3,
   "metadata": {
    "collapsed": false
   },
   "outputs": [
    {
     "name": "stdout",
     "output_type": "stream",
     "text": [
      "La variable X 1  es: 14.0\n",
      "La variable X 2  es: -32.0\n",
      "La variable X 3  es: -5.0\n",
      "Satisface la ecuacion 1, su resultado es:  1.0\n",
      "Satisface la ecuacion 2, su resultado es:  -4.0\n",
      "Satisface la ecuacion 3, su resultado es:  5.0\n"
     ]
    }
   ],
   "source": [
    "var,piv,matriz = 0,0,[[2.0,1.0,-1.0,1.0],[5.0,2.0,2.0,-4.0],[3.0,1.0,1.0,5.0]]\n",
    "\n",
    "var = len(matriz[0])-1\n",
    "    \n",
    "def cambiar(matriz,piv,var):\n",
    "    temp=0.0\n",
    "    temp=matriz[piv][piv]\n",
    "    for y in range(0,var+1):\n",
    "        matriz[piv][y]=matriz[piv][y]/temp\n",
    "        \n",
    "def ceros(matriz,piv,var):\n",
    "    for x in range(0,var):\n",
    "        if (x!=piv):\n",
    "            c = matriz[x][piv]\n",
    "            for z in range(0,var+1):\n",
    "                matriz[x][z]=((-1*c)*matriz[piv][z])+matriz[x][z]\n",
    "                \n",
    "for a in range(0,var):\n",
    "    cambiar(matriz,piv,var)\n",
    "    ceros(matriz,piv,var)\n",
    "    piv += 1\n",
    "for x in range(0,var):\n",
    "    print (\"La variable X\",x+1,\" es:\",matriz[x][var])\n",
    "    \n",
    "ecuacion1=2*matriz[0][3]+matriz[1][3]-matriz[2][3]\n",
    "ecuacion2=5*matriz[0][3]+2*matriz[1][3]+2*matriz[2][3]\n",
    "ecuacion3=3*matriz[0][3]+matriz[1][3]+matriz[2][3]\n",
    "print (\"Satisface la ecuacion 1, su resultado es: \", ecuacion1)\n",
    "print (\"Satisface la ecuacion 2, su resultado es: \", ecuacion2)\n",
    "print (\"Satisface la ecuacion 3, su resultado es: \", ecuacion3)"
   ]
  },
  {
   "cell_type": "code",
   "execution_count": null,
   "metadata": {
    "collapsed": true
   },
   "outputs": [],
   "source": []
  }
 ],
 "metadata": {
  "kernelspec": {
   "display_name": "Python 3",
   "language": "python",
   "name": "python3"
  },
  "language_info": {
   "codemirror_mode": {
    "name": "ipython",
    "version": 3
   },
   "file_extension": ".py",
   "mimetype": "text/x-python",
   "name": "python",
   "nbconvert_exporter": "python",
   "pygments_lexer": "ipython3",
   "version": "3.5.1"
  }
 },
 "nbformat": 4,
 "nbformat_minor": 0
}
