{
 "cells": [
  {
   "cell_type": "code",
   "execution_count": 7,
   "metadata": {
    "collapsed": false
   },
   "outputs": [
    {
     "name": "stdout",
     "output_type": "stream",
     "text": [
      "metodo grafico\n",
      "\n",
      "X2=  56.44\n",
      "X2=  56.55\n",
      "X1=  404.99999999999994\n"
     ]
    },
    {
     "data": {
      "image/png": "[encoded data removed]",
      "text/plain": [
       "<matplotlib.figure.Figure at 0x56ae370>"
      ]
     },
     "metadata": {},
     "output_type": "display_data"
    },
    {
     "name": "stdout",
     "output_type": "stream",
     "text": [
      "primera ecuacion remplazando=  120.0\n",
      "segunda ecuacion remplazandoo=  173.97000000000003\n",
      "\n",
      "El determinante de la matriz es  0.8599999999999994\n",
      "\n",
      "eliminacion de incognitas: \n",
      "El valor de X1 es= 404.6511627906979\n",
      "El valor de X2 es= 56.51162790697678\n"
     ]
    }
   ],
   "source": [
    "import math\n",
    "import matplotlib.pyplot as plt\n",
    "%matplotlib inline\n",
    "\n",
    "equ1, fun1, fun2=[],[],[]\n",
    "i=0\n",
    "print (\"metodo grafico\\n\")\n",
    "while i<500:\n",
    "    x2=float(format((0.11*i)+12.0, '.4g'))\n",
    "    x2b=float(format(((2.0/17.4)*i)+10, '.4g'))\n",
    "    equ1.append(i)\n",
    "    fun1.append(x2)\n",
    "    fun2.append(x2b)\n",
    "    if(x2==x2b):\n",
    "        x=x2\n",
    "        x1=((10.0*x)-120)/1.1\n",
    "        print (\"X2= \", x)\n",
    "    i+=1\n",
    "print (\"X1= \",x1)\n",
    "a=x1\n",
    "b=x2\n",
    "plt.grid(True)\n",
    "plt.axis([380,430,53,60])\n",
    "plt.ylabel('x2')\n",
    "plt.xlabel('x1')\n",
    "plt.plot(equ1, fun1, 'm-', linewidth=1.0)\n",
    "plt.plot(equ1, fun2, 'y-',linewidth=1.0)\n",
    "plt.plot(405,56.55, 'co')\n",
    "plt.show()\n",
    "\n",
    "ecuacion1=-1.1*x1+10*x\n",
    "print (\"primera ecuacion remplazando= \",ecuacion1)\n",
    "ecuacion2=-2*x1+17.4*x\n",
    "print (\"segunda ecuacion remplazandoo= \",ecuacion2)\n",
    "\n",
    "matriz=[[-1.1,10],[-2,17.4]]\n",
    "det=matriz[0][0]*matriz[1][1]-matriz[0][1]*matriz[1][0]\n",
    "print (\"\\nEl determinante de la matriz es \",det)\n",
    "\n",
    "\n",
    "aux=[]\n",
    "sol=[120,174]\n",
    "aux2=[]\n",
    "for i in range(len(matriz)):\n",
    "    aux.append([])\n",
    "    if(i==0):\n",
    "        for j in range(len(matriz[0])):\n",
    "            aux[i].append(matriz[1][0]*matriz[i][j])\n",
    "        aux2.append(matriz[1][0]*sol[i])\n",
    "    else:\n",
    "        for j in range(len(matriz[1])):\n",
    "            aux[i].append(matriz[0][0]*matriz[i][j])\n",
    "        aux2.append(matriz[0][0]*sol[i])\n",
    "print (\"\\neliminacion de incognitas: \")\n",
    "var2=(aux2[0]-aux2[1])/(aux[0][1]-aux[1][1])\n",
    "var1=(sol[0]-matriz[0][1]*var2)/matriz[0][0]\n",
    "print (\"El valor de X1 es=\",var1)\n",
    "print (\"El valor de X2 es=\",var2)"
   ]
  },
  {
   "cell_type": "code",
   "execution_count": null,
   "metadata": {
    "collapsed": true
   },
   "outputs": [],
   "source": []
  }
 ],
 "metadata": {
  "kernelspec": {
   "display_name": "Python 3",
   "language": "python",
   "name": "python3"
  },
  "language_info": {
   "codemirror_mode": {
    "name": "ipython",
    "version": 3
   },
   "file_extension": ".py",
   "mimetype": "text/x-python",
   "name": "python",
   "nbconvert_exporter": "python",
   "pygments_lexer": "ipython3",
   "version": "3.5.1"
  }
 },
 "nbformat": 4,
 "nbformat_minor": 0
}
